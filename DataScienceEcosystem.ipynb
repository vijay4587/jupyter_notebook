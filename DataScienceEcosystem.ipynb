{
 "cells": [
  {
   "cell_type": "markdown",
   "id": "493d796f",
   "metadata": {},
   "source": [
    "<h1>DataScienceEcosystem</h1>"
   ]
  },
  {
   "cell_type": "markdown",
   "id": "dae8f67f",
   "metadata": {},
   "source": [
    "Add your code below following the instructions given in the course"
   ]
  },
  {
   "cell_type": "markdown",
   "id": "89d441a1",
   "metadata": {},
   "source": [
    "<h1>Data Science Tools and Ecosystem</h1>"
   ]
  },
  {
   "cell_type": "markdown",
   "id": "833a7335",
   "metadata": {},
   "source": [
    "In this notebook, Data Science Tools and Ecosystem are summarized.\n",
    "\n",
    "__Objectives:__\n",
    "<ul>\n",
    "<li>python</li>\n",
    "<li>r</li>\n",
    "<li>golang</li>\n",
    "</ul>"
   ]
  },
  {
   "cell_type": "markdown",
   "id": "f49157f0",
   "metadata": {},
   "source": [
    "Some of the popular languages that Data Scientists use are:\n",
    "    <ol>\n",
    "    <li>python</li>\n",
    "    <li>R</li>\n",
    "    <li>golang</li>\n",
    "    </ol>"
   ]
  },
  {
   "cell_type": "markdown",
   "id": "2b5e9bf4",
   "metadata": {},
   "source": [
    "Some of the commonly used libraries used by Data Scientists include:\n",
    "    <ol>\n",
    "    <li>pandas</li>\n",
    "    <li>numpy</li>\n",
    "    <li>tensorflow</li>\n",
    "    </ol>"
   ]
  },
  {
   "cell_type": "markdown",
   "id": "efee8e35",
   "metadata": {},
   "source": [
    "| Data Science Tools|\n",
    "|-------------------|\n",
    "|<tc>Rstudio        |\n",
    "|<tc>watson studio  |\n",
    "|<tc>pyspark        |\n"
   ]
  },
  {
   "cell_type": "markdown",
   "id": "3f1a52e1",
   "metadata": {},
   "source": [
    "<h3>Below are a few examples of evaluating arithmetic expressions in Python</h3>"
   ]
  },
  {
   "cell_type": "code",
   "execution_count": 7,
   "id": "bb25090d",
   "metadata": {},
   "outputs": [
    {
     "data": {
      "text/plain": [
       "17"
      ]
     },
     "execution_count": 7,
     "metadata": {},
     "output_type": "execute_result"
    }
   ],
   "source": [
    "#This a simple arithmetic expression to mutiply then add integers\n",
    "(3*4)+5\n"
   ]
  },
  {
   "cell_type": "code",
   "execution_count": 8,
   "id": "7dcd8ad0",
   "metadata": {},
   "outputs": [
    {
     "data": {
      "text/plain": [
       "3.3333333333333335"
      ]
     },
     "execution_count": 8,
     "metadata": {},
     "output_type": "execute_result"
    }
   ],
   "source": [
    "#This will convert 200 minutes to hours by diving by 60\n",
    "200/60"
   ]
  },
  {
   "cell_type": "markdown",
   "id": "2d166c1d",
   "metadata": {},
   "source": [
    "<h2>Author</h2>"
   ]
  },
  {
   "cell_type": "code",
   "execution_count": null,
   "id": "6a5244cb",
   "metadata": {},
   "outputs": [],
   "source": []
  }
 ],
 "metadata": {
  "kernelspec": {
   "display_name": "Python 3",
   "language": "python",
   "name": "python3"
  },
  "language_info": {
   "codemirror_mode": {
    "name": "ipython",
    "version": 3
   },
   "file_extension": ".py",
   "mimetype": "text/x-python",
   "name": "python",
   "nbconvert_exporter": "python",
   "pygments_lexer": "ipython3",
   "version": "3.8.8"
  }
 },
 "nbformat": 4,
 "nbformat_minor": 5
}
